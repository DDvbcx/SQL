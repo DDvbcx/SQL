{
 "cells": [
  {
   "cell_type": "markdown",
   "metadata": {},
   "source": [
    "## ch01:"
   ]
  },
  {
   "cell_type": "markdown",
   "metadata": {},
   "source": [
    "### 初识数据库学习记录"
   ]
  },
  {
   "cell_type": "code",
   "execution_count": 1,
   "metadata": {},
   "outputs": [],
   "source": [
    "import mysql.connector as conn\n",
    "\n",
    "db = conn.connect(\n",
    "    host='localhost',\n",
    "    user='root',\n",
    "    password='123456789zxcvbnm',\n",
    "    database = 'shop',\n",
    ")\n",
    "\n",
    "# 创建游标对象，以便执行 SQL 语句\n",
    "cursor = db.cursor()"
   ]
  },
  {
   "cell_type": "markdown",
   "metadata": {},
   "source": [
    "##### SQL 的标准语句可以分为三类\n",
    "  * __DDL__(数据定义语言): 用来创建或者删除存储数据用的数据库以及数据库中的表等对象。\n",
    "  * <u>__DML__(数据操纵语言)</u>: 用来查询或者变更表中的记录。\n",
    "  * __DCL__(数据控制语言): 用来确认或者取消对数据库中的数据进行的变更。除此之外，还可以对 RDBMS 的用户是否有权限操作数据库中的对象（数据库表等）进行设定。"
   ]
  },
  {
   "cell_type": "code",
   "execution_count": 2,
   "metadata": {},
   "outputs": [],
   "source": [
    "### 进行表的创建\n",
    "create_table_query = \"\"\"create table product1\n",
    "         (product_id CHAR(4) NOT NULL,\n",
    "          product_name VARCHAR(100) NOT NULL,\n",
    "          product_type VARCHAR(32) NOT NULL,\n",
    "          sale_price INTEGER ,\n",
    "          regist_date DATE ,\n",
    "          PRIMARY KEY (product_id))\"\"\"\n",
    "cursor.execute(create_table_query)\n",
    "db.commit()"
   ]
  },
  {
   "cell_type": "markdown",
   "metadata": {},
   "source": [
    "##### 数据类型\n",
    "数据库创建的表，所有的列都必须指定数据类型，每一列都不能存储与该列数据类型不符的数据。有四种最基本的数据类型：\n",
    "1. INTEGER 型\n",
    "2. CHAR 型\n",
    "3. VARCHAR 型\n",
    "4. DATE 型\n",
    "##### 约束的设置\n",
    "约束是除了数据类型之外，对列中存储的数据进行限制或者追加条件的功能。   \n",
    "```NOT NULL```是非空约束，即该列必须输入数据。   \n",
    "```PRIMARY KEY```是主键约束，代表该列是唯一值，可以通过该列取出特定的行的数据。"
   ]
  },
  {
   "cell_type": "code",
   "execution_count": 3,
   "metadata": {},
   "outputs": [],
   "source": [
    "### 表的删除和更新\n",
    "# 删除表的语法：DROP TABLE < 表名 > ;\n",
    "drop_table_product1 = \"\"\"drop table product1\"\"\" # 删除表 product1\n",
    "cursor.execute(drop_table_product1)\n",
    "db.commit()\n",
    "\n",
    "# 添加列的 ALTER TABLE 语句: ALTER TABLE < 表名 > ADD COLUMN < 列的定义 >;\n",
    "add_column_product_name_pinyin = \"\"\"ALTER TABLE product ADD COLUMN product_name_pinyin VARCHAR(100)\"\"\"\n",
    "cursor.execute(add_column_product_name_pinyin)\n",
    "db.commit()"
   ]
  },
  {
   "cell_type": "code",
   "execution_count": 4,
   "metadata": {},
   "outputs": [],
   "source": [
    "# 删除列的 ALTER TABLE 语句: ALTER TABLE < 表名 > DROP COLUMN < 列名 >;\n",
    "drop_column_product_name_pinyin = \"\"\"ALTER TABLE product DROP COLUMN product_name_pinyin\"\"\"\n",
    "cursor.execute(drop_column_product_name_pinyin)\n",
    "db.commit()"
   ]
  },
  {
   "cell_type": "markdown",
   "metadata": {},
   "source": [
    "删除表中特定的行: `DELETE FROM <列名> WHERE COLUMN_NAME='XXX'` 。          \n",
    "清空表内容: `TRUNCATE TABLE TABLE_NAME;`。"
   ]
  },
  {
   "cell_type": "markdown",
   "metadata": {},
   "source": [
    "##### 数据的更新\n",
    "```UPDATE <表名>\n",
    "   SET <列名> = <表达式> [, <列名2>=<表达式2>...]  \n",
    " WHERE <条件>  -- 可选，非常重要\n",
    " ORDER BY 子句  --可选\n",
    " LIMIT 子句; --可选```"
   ]
  },
  {
   "cell_type": "code",
   "execution_count": 7,
   "metadata": {},
   "outputs": [],
   "source": [
    "### 数据的更新\n",
    "\n",
    "# 修改所有的注册时间\n",
    "update_regist_data = '''UPDATE product\n",
    "                             SET regist_date = '2009-10-10' ''' \n",
    "cursor.execute(update_regist_data)\n",
    "db.commit()\n",
    "\n",
    "# 仅修改部分商品的单价\n",
    "\"\"\"update_part_sale_price = '''UPDATE product\n",
    "                               SET sale_price = sale_price * 10 \n",
    "                               WHERE product_type = '厨房用具' '''\n",
    "    cursor.execute(update_part_sale_price)\n",
    "    db.commit()\n",
    "\"\"\"\n"
   ]
  },
  {
   "cell_type": "code",
   "execution_count": 8,
   "metadata": {},
   "outputs": [],
   "source": [
    "### 插入数据\n",
    "create_table = '''CREATE TABLE product2\n",
    "                  (product_id    CHAR(4)      NOT NULL,\n",
    "                  product_name   VARCHAR(100) NOT NULL,\n",
    "                  product_type   VARCHAR(32)  NOT NULL,\n",
    "                  sale_price     INTEGER      DEFAULT 0,\n",
    "                  purchase_price INTEGER ,\n",
    "                  regist_date    DATE ,\n",
    "                  PRIMARY KEY (product_id))'''\n",
    "cursor.execute(create_table)\n",
    "db.commit()"
   ]
  },
  {
   "cell_type": "markdown",
   "metadata": {},
   "source": [
    "##### 插入数据\n",
    "`INSERT INTO <表名> (列1, 列2, 列3, ……) VALUES (值1, 值2, 值3, ……);  `     \n",
    "INSERT 语句中想给某一列赋予 NULL 值时，可以直接在 VALUES子句的值清单中写入 NULL。想要插入 NULL 的列一定不能设置 NOT NULL 约束。\n"
   ]
  },
  {
   "cell_type": "code",
   "execution_count": 11,
   "metadata": {},
   "outputs": [],
   "source": [
    "# 对表进行全列 INSERT\n",
    "insert_data = '''INSERT INTO product2 (product_id, product_name, product_type, sale_price, purchase_price, regist_date) VALUES ('0005', '高压锅', '厨房用具', 6800, 5000, '2009-01-15')'''\n",
    "cursor.execute(insert_data)\n",
    "db.commit()\n",
    "\n",
    "# 插入多行\n",
    "insert_data1 = '''INSERT INTO product2 VALUES ('0002', '打孔器', '办公用品', 500, 320, '2009-09-11'),\n",
    "                                                ('0003', '运动T恤', '衣服', 4000, 2800, NULL),\n",
    "                                                ('0004', '菜刀', '厨房用具', 3000, 2800, '2009-09-20')'''\n",
    "cursor.execute(insert_data1)\n",
    "db.commit()"
   ]
  },
  {
   "cell_type": "code",
   "execution_count": null,
   "metadata": {},
   "outputs": [],
   "source": [
    "### 练习\n",
    "# 1.1\n",
    "create_table_addressbook = '''CREATE TABLE  Addressbook\n",
    "                              (regist_no    INTEGER        NOT NULL;\n",
    "                              name          VARCHAR(128)   NOT NULL;\n",
    "                              address       VARCHAR(256)   NOT NULL;\n",
    "                              tel_no        CHAR(10);\n",
    "                              mail_address  CHAR(20);\n",
    "                              PRIMARY KEY (regist_no))'''\n",
    "cursor.execute(create_table_addressbook)\n",
    "db.commit()\n",
    "\n",
    "# 1.2\n",
    "add_column = '''ALTER TABLE Addressbook ADD COLUMN postal_code CHAR(8) NOT NULL'''\n",
    "cursor.execute(add_column)\n",
    "db.commit()\n",
    "\n",
    "# 1.3\n",
    "''' \n",
    "删除表: DROP TABLE Addressbook\n",
    "'''\n",
    "\n",
    "# 1.4\n",
    "'''\n",
    "问：是否可以编写 SQL 语句来恢复删除掉的 Addressbook 表？\n",
    "答：不能，删除的表是无法恢复的，只能重新插入，请执行删除操作时要特别谨慎。\n",
    "'''"
   ]
  }
 ],
 "metadata": {
  "kernelspec": {
   "display_name": "torch",
   "language": "python",
   "name": "python3"
  },
  "language_info": {
   "codemirror_mode": {
    "name": "ipython",
    "version": 3
   },
   "file_extension": ".py",
   "mimetype": "text/x-python",
   "name": "python",
   "nbconvert_exporter": "python",
   "pygments_lexer": "ipython3",
   "version": "3.8.19"
  }
 },
 "nbformat": 4,
 "nbformat_minor": 2
}
