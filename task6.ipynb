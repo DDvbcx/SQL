{
 "cells": [
  {
   "cell_type": "code",
   "execution_count": 1,
   "metadata": {},
   "outputs": [],
   "source": [
    "import mysql.connector as conn\n",
    "import pandas as pd\n",
    "db = conn.connect(\n",
    "    host='localhost',\n",
    "    user='root',\n",
    "    password='123456789zxcvbnm',\n",
    "    database = 'shop',\n",
    ")\n",
    "\n",
    "# 创建游标对象，以便执行 SQL 语句\n",
    "cursor = db.cursor(buffered=True)"
   ]
  },
  {
   "cell_type": "markdown",
   "metadata": {},
   "source": [
    "##### 练习一"
   ]
  },
  {
   "cell_type": "code",
   "execution_count": 3,
   "metadata": {},
   "outputs": [],
   "source": [
    "### 创建表\n",
    "create_table_employee = '''CREATE TABLE Employee\n",
    "                           (Id              INTEGER   NOT NULL,\n",
    "                            Name            VARCHAR(100)   NOT NULL,\n",
    "                            Salary          INTEGER   NOT NULL,\n",
    "                            DepartmentId    INTEGER   NOT NULL); '''\n",
    "cursor.execute(create_table_employee)\n",
    "db.commit()\n"
   ]
  },
  {
   "cell_type": "code",
   "execution_count": 6,
   "metadata": {},
   "outputs": [],
   "source": [
    "### 插入数据到 Employee 表\n",
    "insert_data_em = '''\n",
    "                    INSERT INTO Employee (Id, Name, Salary, DepartmentId) VALUES (%s, %s, %s, %s)\n",
    "                 '''\n",
    "\n",
    "data = [\n",
    "        (1, 'Joe', 70000, 1),\n",
    "        (2, 'Henry', 80000, 2),\n",
    "        (3, 'Sam', 60000, 2),\n",
    "        (4, 'Max', 90000, 1)\n",
    "        ]\n",
    "\n",
    "cursor.executemany(insert_data_em, data)\n",
    "db.commit()"
   ]
  },
  {
   "cell_type": "code",
   "execution_count": 7,
   "metadata": {},
   "outputs": [],
   "source": [
    "### 创建表 Department \n",
    "create_table_department = '''\n",
    "                             CREATE TABLE IF NOT EXISTS Department\n",
    "                             (Id   INT NOT NULL,\n",
    "                              Name VARCHAR(100) NOT NULL,\n",
    "                              PRIMARY KEY (Id)\n",
    "                             );\n",
    "                          '''\n",
    "cursor.execute(create_table_department)\n",
    "db.commit()\n"
   ]
  },
  {
   "cell_type": "code",
   "execution_count": 8,
   "metadata": {},
   "outputs": [],
   "source": [
    "### 向表 Department 插入数据\n",
    "insert_data_department = '''\n",
    "                            INSERT INTO Department (Id, Name) VALUES\n",
    "                                (1, 'IT'),\n",
    "                                (2, 'Sales');\n",
    "                         '''\n",
    "cursor.execute(insert_data_department)\n",
    "db.commit()"
   ]
  },
  {
   "cell_type": "code",
   "execution_count": 9,
   "metadata": {},
   "outputs": [
    {
     "data": {
      "text/html": [
       "<div>\n",
       "<style scoped>\n",
       "    .dataframe tbody tr th:only-of-type {\n",
       "        vertical-align: middle;\n",
       "    }\n",
       "\n",
       "    .dataframe tbody tr th {\n",
       "        vertical-align: top;\n",
       "    }\n",
       "\n",
       "    .dataframe thead th {\n",
       "        text-align: right;\n",
       "    }\n",
       "</style>\n",
       "<table border=\"1\" class=\"dataframe\">\n",
       "  <thead>\n",
       "    <tr style=\"text-align: right;\">\n",
       "      <th></th>\n",
       "      <th>Id</th>\n",
       "      <th>Name</th>\n",
       "      <th>Salary</th>\n",
       "      <th>DepartmentId</th>\n",
       "    </tr>\n",
       "  </thead>\n",
       "  <tbody>\n",
       "    <tr>\n",
       "      <th>0</th>\n",
       "      <td>1</td>\n",
       "      <td>Joe</td>\n",
       "      <td>70000</td>\n",
       "      <td>1</td>\n",
       "    </tr>\n",
       "    <tr>\n",
       "      <th>1</th>\n",
       "      <td>2</td>\n",
       "      <td>Henry</td>\n",
       "      <td>80000</td>\n",
       "      <td>2</td>\n",
       "    </tr>\n",
       "    <tr>\n",
       "      <th>2</th>\n",
       "      <td>3</td>\n",
       "      <td>Sam</td>\n",
       "      <td>60000</td>\n",
       "      <td>2</td>\n",
       "    </tr>\n",
       "    <tr>\n",
       "      <th>3</th>\n",
       "      <td>4</td>\n",
       "      <td>Max</td>\n",
       "      <td>90000</td>\n",
       "      <td>1</td>\n",
       "    </tr>\n",
       "  </tbody>\n",
       "</table>\n",
       "</div>"
      ],
      "text/plain": [
       "   Id   Name  Salary  DepartmentId\n",
       "0   1    Joe   70000             1\n",
       "1   2  Henry   80000             2\n",
       "2   3    Sam   60000             2\n",
       "3   4    Max   90000             1"
      ]
     },
     "execution_count": 9,
     "metadata": {},
     "output_type": "execute_result"
    }
   ],
   "source": [
    "# 读取 Employee 表的内容\n",
    "select_all_em = '''SELECT *\n",
    "                   FROM Employee; '''\n",
    "cursor.execute(select_all_em)\n",
    "res = cursor.fetchall()\n",
    "df_em = pd.DataFrame(res, columns=cursor.column_names)\n",
    "df_em"
   ]
  },
  {
   "cell_type": "code",
   "execution_count": 10,
   "metadata": {},
   "outputs": [
    {
     "data": {
      "text/html": [
       "<div>\n",
       "<style scoped>\n",
       "    .dataframe tbody tr th:only-of-type {\n",
       "        vertical-align: middle;\n",
       "    }\n",
       "\n",
       "    .dataframe tbody tr th {\n",
       "        vertical-align: top;\n",
       "    }\n",
       "\n",
       "    .dataframe thead th {\n",
       "        text-align: right;\n",
       "    }\n",
       "</style>\n",
       "<table border=\"1\" class=\"dataframe\">\n",
       "  <thead>\n",
       "    <tr style=\"text-align: right;\">\n",
       "      <th></th>\n",
       "      <th>Id</th>\n",
       "      <th>Name</th>\n",
       "    </tr>\n",
       "  </thead>\n",
       "  <tbody>\n",
       "    <tr>\n",
       "      <th>0</th>\n",
       "      <td>1</td>\n",
       "      <td>IT</td>\n",
       "    </tr>\n",
       "    <tr>\n",
       "      <th>1</th>\n",
       "      <td>2</td>\n",
       "      <td>Sales</td>\n",
       "    </tr>\n",
       "  </tbody>\n",
       "</table>\n",
       "</div>"
      ],
      "text/plain": [
       "   Id   Name\n",
       "0   1     IT\n",
       "1   2  Sales"
      ]
     },
     "execution_count": 10,
     "metadata": {},
     "output_type": "execute_result"
    }
   ],
   "source": [
    "select_all_dep = '''SELECT *\n",
    "                   FROM Department; '''\n",
    "cursor.execute(select_all_dep)\n",
    "res = cursor.fetchall()\n",
    "df_dep = pd.DataFrame(res, columns=cursor.column_names)\n",
    "df_dep"
   ]
  },
  {
   "cell_type": "code",
   "execution_count": 19,
   "metadata": {},
   "outputs": [
    {
     "data": {
      "text/html": [
       "<div>\n",
       "<style scoped>\n",
       "    .dataframe tbody tr th:only-of-type {\n",
       "        vertical-align: middle;\n",
       "    }\n",
       "\n",
       "    .dataframe tbody tr th {\n",
       "        vertical-align: top;\n",
       "    }\n",
       "\n",
       "    .dataframe thead th {\n",
       "        text-align: right;\n",
       "    }\n",
       "</style>\n",
       "<table border=\"1\" class=\"dataframe\">\n",
       "  <thead>\n",
       "    <tr style=\"text-align: right;\">\n",
       "      <th></th>\n",
       "      <th>Department</th>\n",
       "      <th>Employee</th>\n",
       "      <th>Salary</th>\n",
       "    </tr>\n",
       "  </thead>\n",
       "  <tbody>\n",
       "    <tr>\n",
       "      <th>0</th>\n",
       "      <td>Sales</td>\n",
       "      <td>Henry</td>\n",
       "      <td>80000</td>\n",
       "    </tr>\n",
       "    <tr>\n",
       "      <th>1</th>\n",
       "      <td>IT</td>\n",
       "      <td>Max</td>\n",
       "      <td>90000</td>\n",
       "    </tr>\n",
       "  </tbody>\n",
       "</table>\n",
       "</div>"
      ],
      "text/plain": [
       "  Department Employee  Salary\n",
       "0      Sales    Henry   80000\n",
       "1         IT      Max   90000"
      ]
     },
     "execution_count": 19,
     "metadata": {},
     "output_type": "execute_result"
    }
   ],
   "source": [
    "MAX_query = '''\n",
    "            SELECT \n",
    "                d.Name AS Department,\n",
    "                e.Name AS Employee,\n",
    "                e.Salary\n",
    "            FROM \n",
    "                Employee e\n",
    "            INNER JOIN \n",
    "                Department d ON e.DepartmentId = d.Id\n",
    "            WHERE e.Salary IN (SELECT MAX(Salary)\n",
    "                               FROM Employee\n",
    "                               GROUP BY DepartmentId)\n",
    "    '''\n",
    "cursor.execute(query)\n",
    "res = cursor.fetchall()\n",
    "\n",
    "df_query = pd.DataFrame(res, columns=cursor.column_names)\n",
    "df_query"
   ]
  },
  {
   "cell_type": "code",
   "execution_count": null,
   "metadata": {},
   "outputs": [],
   "source": []
  }
 ],
 "metadata": {
  "kernelspec": {
   "display_name": "torch",
   "language": "python",
   "name": "python3"
  },
  "language_info": {
   "codemirror_mode": {
    "name": "ipython",
    "version": 3
   },
   "file_extension": ".py",
   "mimetype": "text/x-python",
   "name": "python",
   "nbconvert_exporter": "python",
   "pygments_lexer": "ipython3",
   "version": "3.8.19"
  }
 },
 "nbformat": 4,
 "nbformat_minor": 2
}
