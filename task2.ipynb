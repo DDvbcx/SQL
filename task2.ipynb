{
 "cells": [
  {
   "cell_type": "markdown",
   "metadata": {},
   "source": [
    "## ch02 \n",
    "### 基础查询与排序\n"
   ]
  },
  {
   "cell_type": "code",
   "execution_count": 57,
   "metadata": {},
   "outputs": [],
   "source": [
    "import mysql.connector as conn\n",
    "import pandas as pd\n",
    "db = conn.connect(\n",
    "    host='localhost',\n",
    "    user='root',\n",
    "    password='123456789zxcvbnm',\n",
    "    database = 'shop',\n",
    ")\n",
    "\n",
    "# 创建游标对象，以便执行 SQL 语句\n",
    "cursor = db.cursor(buffered=True)"
   ]
  },
  {
   "cell_type": "code",
   "execution_count": 15,
   "metadata": {},
   "outputs": [],
   "source": [
    "### 进行表的创建\n",
    "create_table_query = \"\"\"create table products\n",
    "         (product_id CHAR(4) NOT NULL,\n",
    "          product_name VARCHAR(100) NOT NULL,\n",
    "          product_type VARCHAR(32) NOT NULL,\n",
    "          sale_price INTEGER ,\n",
    "          purchase_price INTEGER ,\n",
    "          regist_date DATE ,\n",
    "          PRIMARY KEY (product_id))\"\"\"\n",
    "cursor.execute(create_table_query)\n",
    "db.commit()"
   ]
  },
  {
   "cell_type": "code",
   "execution_count": 18,
   "metadata": {},
   "outputs": [],
   "source": [
    "### 内容插入\n",
    "insert_data_ = '''INSERT INTO products VALUES\n",
    "                                            ('0001', 'T恤衫', '衣服', 1000, 500, '2009-09-20'),\n",
    "                                            ('0002', '打孔器', '办公用品', 500, 320, '2009-09-11'),\n",
    "                                            ('0003', '运动T恤', '衣服', 4000, 2800, NULL),\n",
    "                                            ('0004', '菜刀', '厨房用具', 3000, 2800, '2009-09-20'),\n",
    "                                            ('0005', '高压锅', '厨房用具', 6800, 5000, '2009-01-15'),\n",
    "                                            ('0006', '叉子', '厨房用具', 500, NULL, '2009-09-20'),\n",
    "                                            ('0007', '擦菜板', '厨房用具', 880, 790, '2008-04-28'),\n",
    "                                            ('0008', '圆珠笔', '办公用品', 100, NULL, '2009-11-11'); '''\n",
    "cursor.execute(insert_data_)\n",
    "db.commit()"
   ]
  },
  {
   "cell_type": "markdown",
   "metadata": {},
   "source": [
    "##### SELECT 语句基础\n",
    "###### 1.从表中选择数据\n",
    "```\n",
    "SELECT <列名>, ……\n",
    "  FROM <表名>\n",
    " WHERE <条件表达式>;\n",
    "```"
   ]
  },
  {
   "cell_type": "code",
   "execution_count": 50,
   "metadata": {},
   "outputs": [],
   "source": [
    "cursor.fetchall() ### 这一步有时候很重要，当读取结果出现 bug 时\n",
    "select_all = \"SELECT * FROM products\"\n",
    "cursor.execute(select_all)\n",
    "\n",
    "# 获取查询结果\n",
    "res = cursor.fetchall()\n",
    "\n",
    "# 将结果转换\n",
    "df_data = pd.DataFrame(res, columns=cursor.column_names)"
   ]
  },
  {
   "cell_type": "code",
   "execution_count": 51,
   "metadata": {},
   "outputs": [
    {
     "data": {
      "text/html": [
       "<div>\n",
       "<style scoped>\n",
       "    .dataframe tbody tr th:only-of-type {\n",
       "        vertical-align: middle;\n",
       "    }\n",
       "\n",
       "    .dataframe tbody tr th {\n",
       "        vertical-align: top;\n",
       "    }\n",
       "\n",
       "    .dataframe thead th {\n",
       "        text-align: right;\n",
       "    }\n",
       "</style>\n",
       "<table border=\"1\" class=\"dataframe\">\n",
       "  <thead>\n",
       "    <tr style=\"text-align: right;\">\n",
       "      <th></th>\n",
       "      <th>product_id</th>\n",
       "      <th>product_name</th>\n",
       "      <th>product_type</th>\n",
       "      <th>sale_price</th>\n",
       "      <th>purchase_price</th>\n",
       "      <th>regist_date</th>\n",
       "    </tr>\n",
       "  </thead>\n",
       "  <tbody>\n",
       "    <tr>\n",
       "      <th>0</th>\n",
       "      <td>0001</td>\n",
       "      <td>T恤衫</td>\n",
       "      <td>衣服</td>\n",
       "      <td>1000</td>\n",
       "      <td>500.0</td>\n",
       "      <td>2009-09-20</td>\n",
       "    </tr>\n",
       "    <tr>\n",
       "      <th>1</th>\n",
       "      <td>0002</td>\n",
       "      <td>打孔器</td>\n",
       "      <td>办公用品</td>\n",
       "      <td>500</td>\n",
       "      <td>320.0</td>\n",
       "      <td>2009-09-11</td>\n",
       "    </tr>\n",
       "    <tr>\n",
       "      <th>2</th>\n",
       "      <td>0003</td>\n",
       "      <td>运动T恤</td>\n",
       "      <td>衣服</td>\n",
       "      <td>4000</td>\n",
       "      <td>2800.0</td>\n",
       "      <td>None</td>\n",
       "    </tr>\n",
       "    <tr>\n",
       "      <th>3</th>\n",
       "      <td>0004</td>\n",
       "      <td>菜刀</td>\n",
       "      <td>厨房用具</td>\n",
       "      <td>3000</td>\n",
       "      <td>2800.0</td>\n",
       "      <td>2009-09-20</td>\n",
       "    </tr>\n",
       "    <tr>\n",
       "      <th>4</th>\n",
       "      <td>0005</td>\n",
       "      <td>高压锅</td>\n",
       "      <td>厨房用具</td>\n",
       "      <td>6800</td>\n",
       "      <td>5000.0</td>\n",
       "      <td>2009-01-15</td>\n",
       "    </tr>\n",
       "    <tr>\n",
       "      <th>5</th>\n",
       "      <td>0006</td>\n",
       "      <td>叉子</td>\n",
       "      <td>厨房用具</td>\n",
       "      <td>500</td>\n",
       "      <td>NaN</td>\n",
       "      <td>2009-09-20</td>\n",
       "    </tr>\n",
       "    <tr>\n",
       "      <th>6</th>\n",
       "      <td>0007</td>\n",
       "      <td>擦菜板</td>\n",
       "      <td>厨房用具</td>\n",
       "      <td>880</td>\n",
       "      <td>790.0</td>\n",
       "      <td>2008-04-28</td>\n",
       "    </tr>\n",
       "    <tr>\n",
       "      <th>7</th>\n",
       "      <td>0008</td>\n",
       "      <td>圆珠笔</td>\n",
       "      <td>办公用品</td>\n",
       "      <td>100</td>\n",
       "      <td>NaN</td>\n",
       "      <td>2009-11-11</td>\n",
       "    </tr>\n",
       "  </tbody>\n",
       "</table>\n",
       "</div>"
      ],
      "text/plain": [
       "  product_id product_name product_type  sale_price  purchase_price regist_date\n",
       "0       0001          T恤衫           衣服        1000           500.0  2009-09-20\n",
       "1       0002          打孔器         办公用品         500           320.0  2009-09-11\n",
       "2       0003         运动T恤           衣服        4000          2800.0        None\n",
       "3       0004           菜刀         厨房用具        3000          2800.0  2009-09-20\n",
       "4       0005          高压锅         厨房用具        6800          5000.0  2009-01-15\n",
       "5       0006           叉子         厨房用具         500             NaN  2009-09-20\n",
       "6       0007          擦菜板         厨房用具         880           790.0  2008-04-28\n",
       "7       0008          圆珠笔         办公用品         100             NaN  2009-11-11"
      ]
     },
     "execution_count": 51,
     "metadata": {},
     "output_type": "execute_result"
    }
   ],
   "source": [
    "df_data"
   ]
  },
  {
   "cell_type": "code",
   "execution_count": 47,
   "metadata": {},
   "outputs": [
    {
     "name": "stdout",
     "output_type": "stream",
     "text": [
      "[('T恤衫', '衣服'), ('运动T恤', '衣服')]\n"
     ]
    },
    {
     "data": {
      "text/html": [
       "<div>\n",
       "<style scoped>\n",
       "    .dataframe tbody tr th:only-of-type {\n",
       "        vertical-align: middle;\n",
       "    }\n",
       "\n",
       "    .dataframe tbody tr th {\n",
       "        vertical-align: top;\n",
       "    }\n",
       "\n",
       "    .dataframe thead th {\n",
       "        text-align: right;\n",
       "    }\n",
       "</style>\n",
       "<table border=\"1\" class=\"dataframe\">\n",
       "  <thead>\n",
       "    <tr style=\"text-align: right;\">\n",
       "      <th></th>\n",
       "      <th>product_name</th>\n",
       "      <th>product_type</th>\n",
       "    </tr>\n",
       "  </thead>\n",
       "  <tbody>\n",
       "    <tr>\n",
       "      <th>0</th>\n",
       "      <td>T恤衫</td>\n",
       "      <td>衣服</td>\n",
       "    </tr>\n",
       "    <tr>\n",
       "      <th>1</th>\n",
       "      <td>运动T恤</td>\n",
       "      <td>衣服</td>\n",
       "    </tr>\n",
       "  </tbody>\n",
       "</table>\n",
       "</div>"
      ],
      "text/plain": [
       "  product_name product_type\n",
       "0          T恤衫           衣服\n",
       "1         运动T恤           衣服"
      ]
     },
     "execution_count": 47,
     "metadata": {},
     "output_type": "execute_result"
    }
   ],
   "source": [
    "\n",
    "select__part = '''SELECT product_name, product_type\n",
    "                  FROM products\n",
    "                  WHERE product_type = '衣服';'''\n",
    "cursor.execute(select__part)\n",
    "\n",
    "res = cursor.fetchall()\n",
    "print(res)\n",
    "df = pd.DataFrame(res, columns=cursor.column_names)\n",
    "df"
   ]
  },
  {
   "cell_type": "code",
   "execution_count": 48,
   "metadata": {},
   "outputs": [
    {
     "name": "stdout",
     "output_type": "stream",
     "text": [
      "[('T恤衫', '衣服', 1000), ('运动T恤', '衣服', 4000), ('菜刀', '厨房用具', 3000), ('高压锅', '厨房用具', 6800)]\n",
      "product_name:  T恤衫\n",
      "produce_type:  衣服\n",
      "sale_price:  1000\n",
      "product_name:  运动T恤\n",
      "produce_type:  衣服\n",
      "sale_price:  4000\n",
      "product_name:  菜刀\n",
      "produce_type:  厨房用具\n",
      "sale_price:  3000\n",
      "product_name:  高压锅\n",
      "produce_type:  厨房用具\n",
      "sale_price:  6800\n"
     ]
    },
    {
     "data": {
      "text/html": [
       "<div>\n",
       "<style scoped>\n",
       "    .dataframe tbody tr th:only-of-type {\n",
       "        vertical-align: middle;\n",
       "    }\n",
       "\n",
       "    .dataframe tbody tr th {\n",
       "        vertical-align: top;\n",
       "    }\n",
       "\n",
       "    .dataframe thead th {\n",
       "        text-align: right;\n",
       "    }\n",
       "</style>\n",
       "<table border=\"1\" class=\"dataframe\">\n",
       "  <thead>\n",
       "    <tr style=\"text-align: right;\">\n",
       "      <th></th>\n",
       "      <th>product_name</th>\n",
       "      <th>product_type</th>\n",
       "      <th>sale_price</th>\n",
       "    </tr>\n",
       "  </thead>\n",
       "  <tbody>\n",
       "    <tr>\n",
       "      <th>0</th>\n",
       "      <td>T恤衫</td>\n",
       "      <td>衣服</td>\n",
       "      <td>1000</td>\n",
       "    </tr>\n",
       "    <tr>\n",
       "      <th>1</th>\n",
       "      <td>运动T恤</td>\n",
       "      <td>衣服</td>\n",
       "      <td>4000</td>\n",
       "    </tr>\n",
       "    <tr>\n",
       "      <th>2</th>\n",
       "      <td>菜刀</td>\n",
       "      <td>厨房用具</td>\n",
       "      <td>3000</td>\n",
       "    </tr>\n",
       "    <tr>\n",
       "      <th>3</th>\n",
       "      <td>高压锅</td>\n",
       "      <td>厨房用具</td>\n",
       "      <td>6800</td>\n",
       "    </tr>\n",
       "  </tbody>\n",
       "</table>\n",
       "</div>"
      ],
      "text/plain": [
       "  product_name product_type  sale_price\n",
       "0          T恤衫           衣服        1000\n",
       "1         运动T恤           衣服        4000\n",
       "2           菜刀         厨房用具        3000\n",
       "3          高压锅         厨房用具        6800"
      ]
     },
     "execution_count": 48,
     "metadata": {},
     "output_type": "execute_result"
    }
   ],
   "source": [
    "select__price_ = '''SELECT product_name, product_type, sale_price\n",
    "                  FROM products\n",
    "                  WHERE sale_price >= 1000; '''\n",
    "cursor.execute(select__price_)\n",
    "\n",
    "res = cursor.fetchall()\n",
    "print(res)\n",
    "for row in res:\n",
    "    print(\"product_name: \", row[0])\n",
    "    print(\"produce_type: \", row[1])\n",
    "    print(\"sale_price: \", row[2])\n",
    "df = pd.DataFrame(res, columns=cursor.column_names)\n",
    "df"
   ]
  },
  {
   "cell_type": "code",
   "execution_count": 49,
   "metadata": {},
   "outputs": [
    {
     "name": "stdout",
     "output_type": "stream",
     "text": [
      "[('打孔器', '办公用品', datetime.date(2009, 9, 11))]\n",
      "product_name:  打孔器\n",
      "produce_type:  办公用品\n",
      "regist_date:  2009-09-11\n"
     ]
    },
    {
     "data": {
      "text/html": [
       "<div>\n",
       "<style scoped>\n",
       "    .dataframe tbody tr th:only-of-type {\n",
       "        vertical-align: middle;\n",
       "    }\n",
       "\n",
       "    .dataframe tbody tr th {\n",
       "        vertical-align: top;\n",
       "    }\n",
       "\n",
       "    .dataframe thead th {\n",
       "        text-align: right;\n",
       "    }\n",
       "</style>\n",
       "<table border=\"1\" class=\"dataframe\">\n",
       "  <thead>\n",
       "    <tr style=\"text-align: right;\">\n",
       "      <th></th>\n",
       "      <th>product_name</th>\n",
       "      <th>product_type</th>\n",
       "      <th>regist_date</th>\n",
       "    </tr>\n",
       "  </thead>\n",
       "  <tbody>\n",
       "    <tr>\n",
       "      <th>0</th>\n",
       "      <td>打孔器</td>\n",
       "      <td>办公用品</td>\n",
       "      <td>2009-09-11</td>\n",
       "    </tr>\n",
       "  </tbody>\n",
       "</table>\n",
       "</div>"
      ],
      "text/plain": [
       "  product_name product_type regist_date\n",
       "0          打孔器         办公用品  2009-09-11"
      ]
     },
     "execution_count": 49,
     "metadata": {},
     "output_type": "execute_result"
    }
   ],
   "source": [
    "### 通过括号可以优先处理\n",
    "'''\n",
    "将查询条件原封不动地写入条件表达式，有些情况下会得到错误结果\n",
    "SELECT product_name, product_type, regist_date\n",
    "  FROM product\n",
    " WHERE product_type = '办公用品'\n",
    "   AND regist_date = '2009-09-11' # 错误表达\n",
    "    OR regist_date = '2009-09-20';\n",
    "'''\n",
    "\n",
    "select_date_ = '''SELECT product_name, product_type, regist_date\n",
    "                    FROM products\n",
    "                    WHERE product_type = '办公用品'\n",
    "                    AND (regist_date = '2009-09-11' OR regist_date = '2009-09-20'); '''\n",
    "cursor.execute(select_date_)\n",
    "\n",
    "res = cursor.fetchall()\n",
    "print(res)\n",
    "for row in res:\n",
    "    print(\"product_name: \", row[0])\n",
    "    print(\"produce_type: \", row[1])\n",
    "    print(\"regist_date: \", row[2])\n",
    "df = pd.DataFrame(res, columns=cursor.column_names)\n",
    "df"
   ]
  },
  {
   "cell_type": "markdown",
   "metadata": {},
   "source": [
    "##### 对表进行聚合\n"
   ]
  },
  {
   "cell_type": "code",
   "execution_count": 52,
   "metadata": {},
   "outputs": [
    {
     "name": "stdout",
     "output_type": "stream",
     "text": [
      "[(Decimal('16780'), Decimal('12210'))]\n"
     ]
    }
   ],
   "source": [
    "### 计算销售单价和进货单价的合计值\n",
    "group_sum = '''SELECT SUM(sale_price), SUM(purchase_price) \n",
    "               FROM products'''\n",
    "cursor.execute(group_sum)\n",
    "\n",
    "res = cursor.fetchall()\n",
    "print(res)"
   ]
  },
  {
   "cell_type": "code",
   "execution_count": 53,
   "metadata": {},
   "outputs": [
    {
     "data": {
      "text/plain": [
       "sale_price        16780.0\n",
       "purchase_price    12210.0\n",
       "dtype: float64"
      ]
     },
     "execution_count": 53,
     "metadata": {},
     "output_type": "execute_result"
    }
   ],
   "source": [
    "### 使用 pandas \n",
    "df_data[['sale_price', 'purchase_price']].sum()"
   ]
  },
  {
   "cell_type": "code",
   "execution_count": 61,
   "metadata": {},
   "outputs": [
    {
     "name": "stdout",
     "output_type": "stream",
     "text": [
      "[(datetime.date(2009, 11, 11), datetime.date(2008, 4, 28))]\n"
     ]
    },
    {
     "data": {
      "text/html": [
       "<div>\n",
       "<style scoped>\n",
       "    .dataframe tbody tr th:only-of-type {\n",
       "        vertical-align: middle;\n",
       "    }\n",
       "\n",
       "    .dataframe tbody tr th {\n",
       "        vertical-align: top;\n",
       "    }\n",
       "\n",
       "    .dataframe thead th {\n",
       "        text-align: right;\n",
       "    }\n",
       "</style>\n",
       "<table border=\"1\" class=\"dataframe\">\n",
       "  <thead>\n",
       "    <tr style=\"text-align: right;\">\n",
       "      <th></th>\n",
       "      <th>MAX(regist_date)</th>\n",
       "      <th>MIN(regist_date)</th>\n",
       "    </tr>\n",
       "  </thead>\n",
       "  <tbody>\n",
       "    <tr>\n",
       "      <th>0</th>\n",
       "      <td>2009-11-11</td>\n",
       "      <td>2008-04-28</td>\n",
       "    </tr>\n",
       "  </tbody>\n",
       "</table>\n",
       "</div>"
      ],
      "text/plain": [
       "  MAX(regist_date) MIN(regist_date)\n",
       "0       2009-11-11       2008-04-28"
      ]
     },
     "execution_count": 61,
     "metadata": {},
     "output_type": "execute_result"
    }
   ],
   "source": [
    "### MAX 和 MIN 也可以用于非值型数据\n",
    "max_min = '''SELECT MAX(regist_date), MIN(regist_date)\n",
    "             FROM products'''\n",
    "cursor.execute(max_min)\n",
    "\n",
    "res = cursor.fetchall()\n",
    "print(res)\n",
    "\n",
    "df_max_min = pd.DataFrame(res, columns=cursor.column_names)\n",
    "df_max_min"
   ]
  },
  {
   "cell_type": "code",
   "execution_count": 62,
   "metadata": {},
   "outputs": [
    {
     "name": "stdout",
     "output_type": "stream",
     "text": [
      "[(8,)]\n"
     ]
    },
    {
     "data": {
      "text/html": [
       "<div>\n",
       "<style scoped>\n",
       "    .dataframe tbody tr th:only-of-type {\n",
       "        vertical-align: middle;\n",
       "    }\n",
       "\n",
       "    .dataframe tbody tr th {\n",
       "        vertical-align: top;\n",
       "    }\n",
       "\n",
       "    .dataframe thead th {\n",
       "        text-align: right;\n",
       "    }\n",
       "</style>\n",
       "<table border=\"1\" class=\"dataframe\">\n",
       "  <thead>\n",
       "    <tr style=\"text-align: right;\">\n",
       "      <th></th>\n",
       "      <th>COUNT(*)</th>\n",
       "    </tr>\n",
       "  </thead>\n",
       "  <tbody>\n",
       "    <tr>\n",
       "      <th>0</th>\n",
       "      <td>8</td>\n",
       "    </tr>\n",
       "  </tbody>\n",
       "</table>\n",
       "</div>"
      ],
      "text/plain": [
       "   COUNT(*)\n",
       "0         8"
      ]
     },
     "execution_count": 62,
     "metadata": {},
     "output_type": "execute_result"
    }
   ],
   "source": [
    "### COUNT 计数\n",
    "# 计算全部数据的行数，包括 NULL 所在行\n",
    "count_all = '''SELECT COUNT(*)\n",
    "               FROM products'''\n",
    "cursor.execute(count_all)\n",
    "\n",
    "res = cursor.fetchall()\n",
    "print(res)\n",
    "df_count_all =  pd.DataFrame(res, columns=cursor.column_names)\n",
    "df_count_all"
   ]
  },
  {
   "cell_type": "code",
   "execution_count": 63,
   "metadata": {},
   "outputs": [
    {
     "name": "stdout",
     "output_type": "stream",
     "text": [
      "[(6,)]\n"
     ]
    },
    {
     "data": {
      "text/html": [
       "<div>\n",
       "<style scoped>\n",
       "    .dataframe tbody tr th:only-of-type {\n",
       "        vertical-align: middle;\n",
       "    }\n",
       "\n",
       "    .dataframe tbody tr th {\n",
       "        vertical-align: top;\n",
       "    }\n",
       "\n",
       "    .dataframe thead th {\n",
       "        text-align: right;\n",
       "    }\n",
       "</style>\n",
       "<table border=\"1\" class=\"dataframe\">\n",
       "  <thead>\n",
       "    <tr style=\"text-align: right;\">\n",
       "      <th></th>\n",
       "      <th>COUNT(purchase_price)</th>\n",
       "    </tr>\n",
       "  </thead>\n",
       "  <tbody>\n",
       "    <tr>\n",
       "      <th>0</th>\n",
       "      <td>6</td>\n",
       "    </tr>\n",
       "  </tbody>\n",
       "</table>\n",
       "</div>"
      ],
      "text/plain": [
       "   COUNT(purchase_price)\n",
       "0                      6"
      ]
     },
     "execution_count": 63,
     "metadata": {},
     "output_type": "execute_result"
    }
   ],
   "source": [
    "count_part = '''SELECT COUNT(purchase_price)\n",
    "               FROM products'''\n",
    "cursor.execute(count_part)\n",
    "\n",
    "res = cursor.fetchall()\n",
    "print(res)\n",
    "df_count_all =  pd.DataFrame(res, columns=cursor.column_names)\n",
    "df_count_all"
   ]
  },
  {
   "cell_type": "markdown",
   "metadata": {},
   "source": [
    "##### 对表进行分组"
   ]
  },
  {
   "cell_type": "code",
   "execution_count": 65,
   "metadata": {},
   "outputs": [
    {
     "name": "stdout",
     "output_type": "stream",
     "text": [
      "[('衣服', 2), ('办公用品', 2), ('厨房用具', 4)]\n"
     ]
    },
    {
     "data": {
      "text/html": [
       "<div>\n",
       "<style scoped>\n",
       "    .dataframe tbody tr th:only-of-type {\n",
       "        vertical-align: middle;\n",
       "    }\n",
       "\n",
       "    .dataframe tbody tr th {\n",
       "        vertical-align: top;\n",
       "    }\n",
       "\n",
       "    .dataframe thead th {\n",
       "        text-align: right;\n",
       "    }\n",
       "</style>\n",
       "<table border=\"1\" class=\"dataframe\">\n",
       "  <thead>\n",
       "    <tr style=\"text-align: right;\">\n",
       "      <th></th>\n",
       "      <th>product_type</th>\n",
       "      <th>COUNT(*)</th>\n",
       "    </tr>\n",
       "  </thead>\n",
       "  <tbody>\n",
       "    <tr>\n",
       "      <th>0</th>\n",
       "      <td>衣服</td>\n",
       "      <td>2</td>\n",
       "    </tr>\n",
       "    <tr>\n",
       "      <th>1</th>\n",
       "      <td>办公用品</td>\n",
       "      <td>2</td>\n",
       "    </tr>\n",
       "    <tr>\n",
       "      <th>2</th>\n",
       "      <td>厨房用具</td>\n",
       "      <td>4</td>\n",
       "    </tr>\n",
       "  </tbody>\n",
       "</table>\n",
       "</div>"
      ],
      "text/plain": [
       "  product_type  COUNT(*)\n",
       "0           衣服         2\n",
       "1         办公用品         2\n",
       "2         厨房用具         4"
      ]
     },
     "execution_count": 65,
     "metadata": {},
     "output_type": "execute_result"
    }
   ],
   "source": [
    "### 对表进行切分\n",
    "group_by_type = '''SELECT product_type, COUNT(*)\n",
    "                   FROM products\n",
    "                   GROUP BY product_type;'''\n",
    "\n",
    "cursor.execute(group_by_type)\n",
    "\n",
    "res = cursor.fetchall()\n",
    "print(res)\n",
    "df_group_by_type = pd.DataFrame(res, columns=cursor.column_names)\n",
    "df_group_by_type"
   ]
  },
  {
   "cell_type": "code",
   "execution_count": 67,
   "metadata": {},
   "outputs": [
    {
     "ename": "ProgrammingError",
     "evalue": "1140 (42000): In aggregated query without GROUP BY, expression #1 of SELECT list contains nonaggregated column 'shop.products.product_type'; this is incompatible with sql_mode=only_full_group_by",
     "output_type": "error",
     "traceback": [
      "\u001b[1;31m---------------------------------------------------------------------------\u001b[0m",
      "\u001b[1;31mMySQLInterfaceError\u001b[0m                       Traceback (most recent call last)",
      "File \u001b[1;32md:\\Anaconda3\\envs\\torch\\lib\\site-packages\\mysql\\connector\\connection_cext.py:697\u001b[0m, in \u001b[0;36mCMySQLConnection.cmd_query\u001b[1;34m(self, query, raw, buffered, raw_as_string)\u001b[0m\n\u001b[0;32m    696\u001b[0m         query \u001b[39m=\u001b[39m query\u001b[39m.\u001b[39mencode(\u001b[39m\"\u001b[39m\u001b[39mutf-8\u001b[39m\u001b[39m\"\u001b[39m)\n\u001b[1;32m--> 697\u001b[0m     \u001b[39mself\u001b[39;49m\u001b[39m.\u001b[39;49m_cmysql\u001b[39m.\u001b[39;49mquery(\n\u001b[0;32m    698\u001b[0m         query,\n\u001b[0;32m    699\u001b[0m         raw\u001b[39m=\u001b[39;49mraw,\n\u001b[0;32m    700\u001b[0m         buffered\u001b[39m=\u001b[39;49mbuffered,\n\u001b[0;32m    701\u001b[0m         raw_as_string\u001b[39m=\u001b[39;49mraw_as_string,\n\u001b[0;32m    702\u001b[0m         query_attrs\u001b[39m=\u001b[39;49m\u001b[39mself\u001b[39;49m\u001b[39m.\u001b[39;49mquery_attrs,\n\u001b[0;32m    703\u001b[0m     )\n\u001b[0;32m    704\u001b[0m \u001b[39mexcept\u001b[39;00m MySQLInterfaceError \u001b[39mas\u001b[39;00m err:\n",
      "\u001b[1;31mMySQLInterfaceError\u001b[0m: In aggregated query without GROUP BY, expression #1 of SELECT list contains nonaggregated column 'shop.products.product_type'; this is incompatible with sql_mode=only_full_group_by",
      "\nThe above exception was the direct cause of the following exception:\n",
      "\u001b[1;31mProgrammingError\u001b[0m                          Traceback (most recent call last)",
      "\u001b[1;32md:\\sql\\SQL\\task2.ipynb Cell 19\u001b[0m line \u001b[0;36m4\n\u001b[0;32m      <a href='vscode-notebook-cell:/d%3A/sql/SQL/task2.ipynb#X30sZmlsZQ%3D%3D?line=0'>1</a>\u001b[0m \u001b[39m# 不含 GROUP BY\u001b[39;00m\n\u001b[0;32m      <a href='vscode-notebook-cell:/d%3A/sql/SQL/task2.ipynb#X30sZmlsZQ%3D%3D?line=1'>2</a>\u001b[0m select_count \u001b[39m=\u001b[39m \u001b[39m'''\u001b[39m\u001b[39mSELECT product_type, COUNT(*)\u001b[39m\n\u001b[0;32m      <a href='vscode-notebook-cell:/d%3A/sql/SQL/task2.ipynb#X30sZmlsZQ%3D%3D?line=2'>3</a>\u001b[0m \u001b[39m                  FROM products\u001b[39m\u001b[39m'''\u001b[39m\n\u001b[1;32m----> <a href='vscode-notebook-cell:/d%3A/sql/SQL/task2.ipynb#X30sZmlsZQ%3D%3D?line=3'>4</a>\u001b[0m cursor\u001b[39m.\u001b[39;49mexecute(select_count)\n\u001b[0;32m      <a href='vscode-notebook-cell:/d%3A/sql/SQL/task2.ipynb#X30sZmlsZQ%3D%3D?line=5'>6</a>\u001b[0m res \u001b[39m=\u001b[39m cursor\u001b[39m.\u001b[39mfetchall()\n\u001b[0;32m      <a href='vscode-notebook-cell:/d%3A/sql/SQL/task2.ipynb#X30sZmlsZQ%3D%3D?line=6'>7</a>\u001b[0m \u001b[39mprint\u001b[39m(res)\n",
      "File \u001b[1;32md:\\Anaconda3\\envs\\torch\\lib\\site-packages\\mysql\\connector\\cursor_cext.py:372\u001b[0m, in \u001b[0;36mCMySQLCursor.execute\u001b[1;34m(self, operation, params, multi)\u001b[0m\n\u001b[0;32m    367\u001b[0m             \u001b[39mraise\u001b[39;00m ProgrammingError(\n\u001b[0;32m    368\u001b[0m                 \u001b[39m\"\u001b[39m\u001b[39mNot all parameters were used in the SQL statement\u001b[39m\u001b[39m\"\u001b[39m\n\u001b[0;32m    369\u001b[0m             )\n\u001b[0;32m    371\u001b[0m \u001b[39mtry\u001b[39;00m:\n\u001b[1;32m--> 372\u001b[0m     result \u001b[39m=\u001b[39m \u001b[39mself\u001b[39;49m\u001b[39m.\u001b[39;49m_cnx\u001b[39m.\u001b[39;49mcmd_query(\n\u001b[0;32m    373\u001b[0m         stmt,\n\u001b[0;32m    374\u001b[0m         raw\u001b[39m=\u001b[39;49m\u001b[39mself\u001b[39;49m\u001b[39m.\u001b[39;49m_raw,\n\u001b[0;32m    375\u001b[0m         buffered\u001b[39m=\u001b[39;49m\u001b[39mself\u001b[39;49m\u001b[39m.\u001b[39;49m_buffered,\n\u001b[0;32m    376\u001b[0m         raw_as_string\u001b[39m=\u001b[39;49m\u001b[39mself\u001b[39;49m\u001b[39m.\u001b[39;49m_raw_as_string,\n\u001b[0;32m    377\u001b[0m     )\n\u001b[0;32m    378\u001b[0m \u001b[39mexcept\u001b[39;00m MySQLInterfaceError \u001b[39mas\u001b[39;00m err:\n\u001b[0;32m    379\u001b[0m     \u001b[39mraise\u001b[39;00m get_mysql_exception(\n\u001b[0;32m    380\u001b[0m         msg\u001b[39m=\u001b[39merr\u001b[39m.\u001b[39mmsg, errno\u001b[39m=\u001b[39merr\u001b[39m.\u001b[39merrno, sqlstate\u001b[39m=\u001b[39merr\u001b[39m.\u001b[39msqlstate\n\u001b[0;32m    381\u001b[0m     ) \u001b[39mfrom\u001b[39;00m \u001b[39merr\u001b[39;00m\n",
      "File \u001b[1;32md:\\Anaconda3\\envs\\torch\\lib\\site-packages\\mysql\\connector\\opentelemetry\\context_propagation.py:102\u001b[0m, in \u001b[0;36mwith_context_propagation.<locals>.wrapper\u001b[1;34m(cnx, *args, **kwargs)\u001b[0m\n\u001b[0;32m    100\u001b[0m \u001b[39m\u001b[39m\u001b[39m\"\"\"Context propagation decorator.\"\"\"\u001b[39;00m\n\u001b[0;32m    101\u001b[0m \u001b[39mif\u001b[39;00m \u001b[39mnot\u001b[39;00m OTEL_ENABLED \u001b[39mor\u001b[39;00m \u001b[39mnot\u001b[39;00m cnx\u001b[39m.\u001b[39motel_context_propagation:\n\u001b[1;32m--> 102\u001b[0m     \u001b[39mreturn\u001b[39;00m method(cnx, \u001b[39m*\u001b[39;49margs, \u001b[39m*\u001b[39;49m\u001b[39m*\u001b[39;49mkwargs)\n\u001b[0;32m    104\u001b[0m current_span \u001b[39m=\u001b[39m trace\u001b[39m.\u001b[39mget_current_span()\n\u001b[0;32m    105\u001b[0m tp_header \u001b[39m=\u001b[39m \u001b[39mNone\u001b[39;00m\n",
      "File \u001b[1;32md:\\Anaconda3\\envs\\torch\\lib\\site-packages\\mysql\\connector\\connection_cext.py:705\u001b[0m, in \u001b[0;36mCMySQLConnection.cmd_query\u001b[1;34m(self, query, raw, buffered, raw_as_string)\u001b[0m\n\u001b[0;32m    697\u001b[0m     \u001b[39mself\u001b[39m\u001b[39m.\u001b[39m_cmysql\u001b[39m.\u001b[39mquery(\n\u001b[0;32m    698\u001b[0m         query,\n\u001b[0;32m    699\u001b[0m         raw\u001b[39m=\u001b[39mraw,\n\u001b[1;32m   (...)\u001b[0m\n\u001b[0;32m    702\u001b[0m         query_attrs\u001b[39m=\u001b[39m\u001b[39mself\u001b[39m\u001b[39m.\u001b[39mquery_attrs,\n\u001b[0;32m    703\u001b[0m     )\n\u001b[0;32m    704\u001b[0m \u001b[39mexcept\u001b[39;00m MySQLInterfaceError \u001b[39mas\u001b[39;00m err:\n\u001b[1;32m--> 705\u001b[0m     \u001b[39mraise\u001b[39;00m get_mysql_exception(\n\u001b[0;32m    706\u001b[0m         err\u001b[39m.\u001b[39merrno, msg\u001b[39m=\u001b[39merr\u001b[39m.\u001b[39mmsg, sqlstate\u001b[39m=\u001b[39merr\u001b[39m.\u001b[39msqlstate\n\u001b[0;32m    707\u001b[0m     ) \u001b[39mfrom\u001b[39;00m \u001b[39merr\u001b[39;00m\n\u001b[0;32m    708\u001b[0m \u001b[39mexcept\u001b[39;00m \u001b[39mAttributeError\u001b[39;00m \u001b[39mas\u001b[39;00m err:\n\u001b[0;32m    709\u001b[0m     addr \u001b[39m=\u001b[39m (\n\u001b[0;32m    710\u001b[0m         \u001b[39mself\u001b[39m\u001b[39m.\u001b[39m_unix_socket \u001b[39mif\u001b[39;00m \u001b[39mself\u001b[39m\u001b[39m.\u001b[39m_unix_socket \u001b[39melse\u001b[39;00m \u001b[39mf\u001b[39m\u001b[39m\"\u001b[39m\u001b[39m{\u001b[39;00m\u001b[39mself\u001b[39m\u001b[39m.\u001b[39m_host\u001b[39m}\u001b[39;00m\u001b[39m:\u001b[39m\u001b[39m{\u001b[39;00m\u001b[39mself\u001b[39m\u001b[39m.\u001b[39m_port\u001b[39m}\u001b[39;00m\u001b[39m\"\u001b[39m\n\u001b[0;32m    711\u001b[0m     )\n",
      "\u001b[1;31mProgrammingError\u001b[0m: 1140 (42000): In aggregated query without GROUP BY, expression #1 of SELECT list contains nonaggregated column 'shop.products.product_type'; this is incompatible with sql_mode=only_full_group_by"
     ]
    }
   ],
   "source": [
    "count_all = '''SELECT COUNT(*)\n",
    "               FROM products'''\n",
    "cursor.execute(count_all)\n",
    "\n",
    "res = cursor.fetchall()\n",
    "print(res)\n",
    "df_count_all =  pd.DataFrame(res, columns=cursor.column_names)\n",
    "df_count_all"
   ]
  },
  {
   "cell_type": "code",
   "execution_count": null,
   "metadata": {},
   "outputs": [],
   "source": []
  }
 ],
 "metadata": {
  "kernelspec": {
   "display_name": "torch",
   "language": "python",
   "name": "python3"
  },
  "language_info": {
   "codemirror_mode": {
    "name": "ipython",
    "version": 3
   },
   "file_extension": ".py",
   "mimetype": "text/x-python",
   "name": "python",
   "nbconvert_exporter": "python",
   "pygments_lexer": "ipython3",
   "version": "3.8.19"
  }
 },
 "nbformat": 4,
 "nbformat_minor": 2
}
