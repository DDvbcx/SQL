{
 "cells": [
  {
   "cell_type": "code",
   "execution_count": 1,
   "metadata": {},
   "outputs": [],
   "source": [
    "import mysql.connector as conn\n",
    "\n",
    "# Connect to MySQL\n",
    "db = conn.connect(\n",
    "    host='localhost',\n",
    "    user='root',\n",
    "    password='123456789zxcvbnm'\n",
    ")\n",
    "\n",
    "# Create cursor\n",
    "cursor = db.cursor(buffered=True)"
   ]
  },
  {
   "cell_type": "code",
   "execution_count": 2,
   "metadata": {},
   "outputs": [
    {
     "name": "stdout",
     "output_type": "stream",
     "text": [
      "Database 'library_management_system' created successfully\n",
      "Switched to database 'library_management_system'\n"
     ]
    }
   ],
   "source": [
    "### 创建并使用数据库\n",
    "# 创建数据库\n",
    "cursor.execute(\"CREATE DATABASE IF NOT EXISTS library_management_system\")\n",
    "print(\"Database 'library_management_system' created successfully\")\n",
    "\n",
    "# 选择数据库\n",
    "cursor.execute(\"USE library_management_system\")\n",
    "print(\"Switched to database 'library_management_system'\")\n"
   ]
  },
  {
   "cell_type": "markdown",
   "metadata": {},
   "source": [
    "创建数据库中的表；"
   ]
  },
  {
   "cell_type": "code",
   "execution_count": 12,
   "metadata": {},
   "outputs": [],
   "source": [
    "cursor.execute(\"DROP TABLE Borrow\")"
   ]
  },
  {
   "cell_type": "code",
   "execution_count": 21,
   "metadata": {},
   "outputs": [],
   "source": [
    "### 创建借阅表\n",
    "\n",
    "cre_tb_borrow = '''CREATE TABLE Borrow\n",
    "                   (BorrowID CHAR(6) NOT NULL PRIMARY KEY,\n",
    "                    ReaderID CHAR(8),\n",
    "                    BookID CHAR(6),\n",
    "                    BorrowDate DATE,\n",
    "                    ReturnDate DATE);'''\n",
    "cursor.execute(cre_tb_borrow)\n",
    "db.commit()"
   ]
  },
  {
   "cell_type": "code",
   "execution_count": 10,
   "metadata": {},
   "outputs": [],
   "source": [
    "### 创建书籍信息表\n",
    "\n",
    "cre_tb_bookinfo = '''CREATE TABLE BookInfo\n",
    "                      (BookID CHAR(6) PRIMARY KEY,\n",
    "                       Book_Name VARCHAR(255),\n",
    "                       AuthorName VARCHAR(255),\n",
    "                       Publisher VARCHAR(255),\n",
    "                       PublishDate DATE,\n",
    "                       BookCategory VARCHAR(255)); '''\n",
    "\n",
    "\n",
    "cursor.execute(cre_tb_bookinfo)\n",
    "db.commit()\n"
   ]
  },
  {
   "cell_type": "code",
   "execution_count": 13,
   "metadata": {},
   "outputs": [],
   "source": [
    "### 创建读者信息表\n",
    "cre_tb_readerinfo = '''CREATE TABLE ReaderInfo\n",
    "                        (ReaderID CHAR(8) PRIMARY KEY,\n",
    "                         BookID CHAR(6),\n",
    "                         ReaderType VARCHAR(255),\n",
    "                         Name VARCHAR(255),\n",
    "                         BorrowCount INT,\n",
    "                         Gender VARCHAR(10),\n",
    "                         WorkUnit VARCHAR(255),\n",
    "                         Email VARCHAR(255),\n",
    "                         Phone INTEGER); '''\n",
    "\n",
    "cursor.execute(cre_tb_readerinfo)\n",
    "db.commit()\n"
   ]
  },
  {
   "cell_type": "markdown",
   "metadata": {},
   "source": [
    "插入信息"
   ]
  },
  {
   "cell_type": "code",
   "execution_count": 17,
   "metadata": {},
   "outputs": [],
   "source": [
    "### 向表 BookInfo 插入数据信息\n",
    "book_info_data = [\n",
    "    ('B00001', 'To Kill a Mockingbird', 'Harper Lee', 'HarperCollins', '1960-07-11', 'Fiction'),\n",
    "    ('B00002', '1Q84', 'George Orwell', 'HarperCollins', '1949-06-08', 'Science Fiction'),\n",
    "    ('B00003', 'The Catcher in the Rye', 'J.D. Salinger', 'Little, Brown and Company', '1951-07-16', 'Fiction'),\n",
    "    ('B00004', 'Pride and Prejudice', 'Jane Austen', 'T. Egerton, Whitehall', '1813-01-28', 'Romance'),\n",
    "    ('B00005', 'To the Lighthouse', 'Virginia Woolf', 'Hogarth Press', '1927-05-05', 'Modernism'),\n",
    "    ('B00006', 'The Great Gatsby', 'F. Scott Fitzgerald', 'Springer', '1925-04-10', 'Fiction'),\n",
    "    ('B00007', 'Moby-Dick', 'Herman Melville', 'Harper & Brothers', '1851-10-18', 'Adventure'),\n",
    "    ('B00008', 'The Hobbit', 'J.R.R. Tolkien', 'Springer', '1937-09-21', 'Fantasy'),\n",
    "    ('B00009', 'Brave New World', 'Aldous Huxley', 'Chatto & Windus', '1932-10-01', 'Science Fiction'),\n",
    "    ('B00010', 'The Lord of the Rings', 'J.R.R. Tolkien', 'George Allen & Unwin', '1954-07-29', 'Fantasy'),\n",
    "    ('B00011', 'Python Crash Course', 'Eric Matthes', 'No Starch Press', '2019-05-03', 'Computer Science'),\n",
    "    ('B00012', 'Deep Learning', 'Ian Goodfellow', 'MIT Press', '2016-11-18', 'Artificial Intelligence'),\n",
    "    ('B00013', 'The C Programming Language', 'Dennis Ritchie', 'Prentice Hall', '1978-02-22', 'Computer Science'),\n",
    "    ('B00014', 'Data Science for Business', 'Foster Provost', 'MIT Press', '2013-07-24', 'Data Science'),\n",
    "    ('B00015', 'The Elements of Statistical Learning', 'Trevor Hastie', 'Springer', '2009-07-01', 'Statistics'),\n",
    "    ('B00016', 'Introduction to Algorithms', 'Thomas H. Cormen', 'MIT Press', '2009-07-31', 'Computer Science'),\n",
    "    ('B00017', 'Artificial Intelligence', 'Prentice Hall', 'HarperCollins', '1995-08-11', 'Artificial Intelligence'),\n",
    "    ('B00018', 'Big Data', 'Viktor Mayer-Schönberger', 'Springer', '2013-03-05', 'Big Data')\n",
    "]\n",
    "\n",
    "insert_query = \"INSERT INTO BookInfo (BookID, Book_Name, AuthorName, Publisher, PublishDate, BookCategory) VALUES (%s, %s, %s, %s, %s, %s)\"\n",
    "\n",
    "cursor.executemany(insert_query, book_info_data)\n",
    "db.commit()"
   ]
  },
  {
   "cell_type": "code",
   "execution_count": 19,
   "metadata": {},
   "outputs": [],
   "source": [
    "### 向表 ReaderInfo 插入信息\n",
    "reader_info_data = [\n",
    "    ('R0000001', 'B00001', 'Student', 'Alice', 2, 'Female', 'XYZ School', 'alice@example.com', 567890),\n",
    "    ('R0000002', 'B00002', 'Faculty', 'Bob', 3, 'Male', 'ABC University', 'bob@example.com', 543210),\n",
    "    ('R0000003', 'B00003', 'Student', 'Charlie', 1, 'Male', 'PQR College', 'charlie@example.com', 450123),\n",
    "    ('R0000004', 'B00004', 'Faculty', 'David', 4, 'Male', 'DEF Institute', 'david@example.com', 789456),\n",
    "    ('R0000005', 'B00005', 'Student', 'Eve', 2, 'Female', 'UVW Academy', 'eve@example.com', 238901),\n",
    "    ('R0000006', 'B00006', 'Student', 'Frank', 3, 'Male', 'LMN School', 'frank@example.com', 901234),\n",
    "    ('R0000007', 'B00007', 'Faculty', 'Grace', 1, 'Female', 'GHI University', 'grace@example.com', 890567),\n",
    "    ('R0000008', 'B00008', 'Student', 'Harry', 2, 'Male', 'JKL College', 'harry@example.com', 345012),\n",
    "    ('R0000009', 'B00009', 'Faculty', 'Ivy', 3, 'Female', 'MNO Institute', 'ivy@example.com', 675345),\n",
    "    ('R0000010', 'B00010', 'Student', 'Jack', 1, 'Male', 'STU Academy', 'jack@example.com', 905678),\n",
    "    ('R0000011', 'B00011', 'Student', 'Lily', 2, 'Female', 'XYZ School', 'lily@example.com', 234501),\n",
    "    ('R0000012', 'B00012', 'Faculty', 'Mike', 3, 'Male', 'ABC University', 'mike@example.com', 567234),\n",
    "    ('R0000013', 'B00013', 'Student', 'Nancy', 1, 'Female', 'PQR College', 'nancy@example.com', 890567)\n",
    "]\n",
    "\n",
    "\n",
    "insert_query = \"INSERT INTO ReaderInfo (ReaderID, BookID, ReaderType, Name, BorrowCount, Gender, WorkUnit, Email, Phone) VALUES (%s, %s, %s, %s, %s, %s, %s, %s, %s)\"\n",
    "\n",
    "cursor.executemany(insert_query, reader_info_data)\n",
    "db.commit()\n"
   ]
  },
  {
   "cell_type": "code",
   "execution_count": 24,
   "metadata": {},
   "outputs": [],
   "source": [
    "borrow_data = [\n",
    "    ('BK0001', 'R0000001', 'B00001', '2024-06-01', '2024-06-15'),\n",
    "    ('BK0002', 'R0000002', 'B00002', '2024-06-02', '2024-06-16'),\n",
    "    ('BK0003', 'R0000003', 'B00003', '2024-06-03', '2024-06-17'),\n",
    "    ('BK0004', 'R0000004', 'B00004', '2024-06-04', '2024-06-18'),\n",
    "    ('BK0005', 'R0000005', 'B00005', '2024-06-05', '2024-06-19'),\n",
    "    ('BK0006', 'R0000006', 'B00006', '2024-06-06', '2024-06-20'),\n",
    "    ('BK0007', 'R0000007', 'B00007', '2024-06-07', '2024-06-21'),\n",
    "    ('BK0008', 'R0000008', 'B00008', '2024-06-08', '2024-06-22'),\n",
    "    ('BK0009', 'R0000009', 'B00009', '2024-06-09', '2024-06-23'),\n",
    "    ('BK0010', 'R0000010', 'B00010', '2024-06-10', '2024-06-24'),\n",
    "    ('BK0011', 'R0000011', 'B00011', '2024-06-11', '2024-06-25'),\n",
    "    ('BK0012', 'R0000012', 'B00012', '2024-06-12', '2024-06-26'),\n",
    "    ('BK0013', 'R0000013', 'B00013', '2024-06-13', '2024-06-27')\n",
    "]\n",
    "\n",
    "insert_query = \"INSERT INTO Borrow (BorrowID, ReaderID, BookID, BorrowDate, ReturnDate) VALUES (%s, %s, %s, %s, %s)\"\n",
    "\n",
    "cursor.executemany(insert_query, borrow_data)\n",
    "db.commit()\n"
   ]
  },
  {
   "cell_type": "code",
   "execution_count": null,
   "metadata": {},
   "outputs": [],
   "source": []
  }
 ],
 "metadata": {
  "kernelspec": {
   "display_name": "torch",
   "language": "python",
   "name": "python3"
  },
  "language_info": {
   "codemirror_mode": {
    "name": "ipython",
    "version": 3
   },
   "file_extension": ".py",
   "mimetype": "text/x-python",
   "name": "python",
   "nbconvert_exporter": "python",
   "pygments_lexer": "ipython3",
   "version": "3.8.19"
  }
 },
 "nbformat": 4,
 "nbformat_minor": 2
}
